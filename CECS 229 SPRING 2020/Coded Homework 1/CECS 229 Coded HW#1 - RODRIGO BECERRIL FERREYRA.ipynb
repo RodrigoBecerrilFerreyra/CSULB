{
 "cells": [
  {
   "cell_type": "markdown",
   "metadata": {},
   "source": [
    "# CECS 229: Coded HW #1\n",
    "\n",
    "### Submission Instructions:\n",
    "\n",
    "Attach your coded solution to the programming tasks below. When you are finished...\n",
    "\n",
    "1. Rename this file so that your actual name replaces \"YOUR NAME\" in the current notebook name, and submit it to the dropbox by **Tuesday 2/18 @ 11 AM**. For example, I would submit to the dropbox a file called  `CECS 229 Coded HW#1 - KATHERINE VARELA.ipynb`\n",
    "2. Submit your code only to CodePost as `hw1.py` by **Tuesday 2/18 @ 11 AM**\n",
    "\n"
   ]
  },
  {
   "cell_type": "markdown",
   "metadata": {},
   "source": [
    "Submit the following Python functions in one Jupyter Notebook after demoing your work.\n",
    "\n",
    "\n",
    "#### Problem 1:\n",
    "\n",
    "Program a function `modExp(b, n, m)` that computes $$b^n \\mod m$$ using the algorithm discussed in lecture.  The function should satisfy the following:\n",
    "\n",
    "1. INPUT: \n",
    "    * `b` - positive integer representing the base\n",
    "    * `n` - positive integer representing the exponent\n",
    "    * `m` - positive integer representing the modulo\n",
    "\n",
    "    \n",
    "2. OUTPUT:\n",
    "    * the computation of $b^n \\mod m$\n",
    "\n",
    " \n",
    "EXAMPLE: \n",
    "\n",
    "`>> modExp( 3 , 644, 645 )`\n",
    "\n",
    "`36`\n",
    "\n"
   ]
  },
  {
   "cell_type": "code",
   "execution_count": 1,
   "metadata": {},
   "outputs": [],
   "source": [
    "def binaryExpansion(b, n):\n",
    "    \"\"\"Returns a list containing the powers of powers of 2 of b.\"\"\"\n",
    "    binExp = reversed([int(i) for i in bin(round(n))[2:]]) #binary expansion of n\n",
    "    decExp = []\n",
    "    for index, value in enumerate(binExp):\n",
    "        decExp.append(b ** (value * 2**index)) #example: 3^11 = 3^(1*2^3) * 3^(0*2^2) * 3^(1*2^1) * 3^(1*2^0) = 177147\n",
    "    return sorted(decExp)\n",
    "\n",
    "def modExp(b=1, n=1, m=1, list_=None):\n",
    "    array = binaryExpansion(b, n) if not list_ else list_\n",
    "\n",
    "    # base case\n",
    "    if len(array) == 1:\n",
    "        return array[0] % m\n",
    "    \n",
    "    # recursive case\n",
    "    first_mod = array[-1] % m\n",
    "    second_mod = modExp(m=m, list_=array[:-1])\n",
    "    return (first_mod * second_mod) % m #corollary"
   ]
  },
  {
   "cell_type": "markdown",
   "metadata": {},
   "source": [
    "#### Problem 2:\n",
    "\n",
    "Create a function `bezoutCoeffs(a, b)` that computes the Bezout coefficients `s` and `t` of `a` and `b`.\n",
    "\n",
    "1. INPUT: \n",
    "    * `a`,`b` - integers\n",
    "\n",
    "2. OUTPUT: `(s, t)` - tuple of coefficients\n",
    "\n",
    "EXAMPLE:  \n",
    " \n",
    "`>> bezoutCoeffs(414, 662)` \n",
    "\n",
    "`(8, -5)`\n",
    "\n"
   ]
  },
  {
   "cell_type": "code",
   "execution_count": 2,
   "metadata": {},
   "outputs": [],
   "source": [
    "# This is not giving expected result for bezoutCoeffs(414, 662)\n",
    "#def bezoutCoeffs(a, b):\n",
    "#    og = {\"a\": a, \"b\": b}\n",
    "#    s = [1, -(b // a)]\n",
    "#    t = [0, 1]\n",
    "#    r = b % a\n",
    "#\n",
    "#    if r == 0: return (s[0], t[0])\n",
    "#\n",
    "#    gcd_ = gcd(a, b)\n",
    "#    i = 2\n",
    "#    while r != gcd_:\n",
    "#        s.append(s[i-2] - (s[i-1] * (b // a)))\n",
    "#        t.append(t[i-2] - (t[i-1] * (b // a)))\n",
    "#\n",
    "#        r = b % a\n",
    "#        b = a\n",
    "#        a = r\n",
    "#        i +=1\n",
    "#    \n",
    "#    if (og['a'] * s[-1] + og['b'] * t[-1] == gcd_):\n",
    "#        result = (s[-1], t[-1])\n",
    "#    elif (og['a'] * t[-1] + og['b'] * s[-1] == gcd_):\n",
    "#        result = (t[-1], s[-1])\n",
    "#\n",
    "#    return result\n",
    "\n",
    "def bezoutCoeffs(a, b): #taken from https://www.dcode.fr/bezout-identity\n",
    "    r = [a, b]\n",
    "    s = [1, 0]\n",
    "    t = [0, 1]\n",
    "    \n",
    "    while r[1] != 0:\n",
    "        div = r[0] // r[1]\n",
    "        rs = r[0]; ss = s[0]; ts = t[0]\n",
    "        r[0] = r[1]; s[0] = s[1]; t[0] = t[1]\n",
    "        r[1] = rs - div*r[1]; s[1] = ss - div*s[1]; t[1] = ts - div*t[1]\n",
    "    \n",
    "    return (s[0], t[0])"
   ]
  },
  {
   "cell_type": "markdown",
   "metadata": {},
   "source": [
    "#### Problem 3:\n",
    "\n",
    "Create a function `gcd(a, b)` that computes the greatest common divisor of `a` and `b`\n",
    "\n",
    "1. INPUT: \n",
    "    * `a`,`b` - integers\n",
    "\n",
    "2. OUTPUT: `d` - the gcd\n",
    "\n",
    "EXAMPLE:  \n",
    " \n",
    "`>> gcd(414, 662)` \n",
    "\n",
    "`2`"
   ]
  },
  {
   "cell_type": "code",
   "execution_count": 3,
   "metadata": {},
   "outputs": [],
   "source": [
    "def gcd(a, b):\n",
    "    mod = a % b\n",
    "    if mod == 0:\n",
    "        return min(a, b)\n",
    "    else:\n",
    "        return gcd(b, mod)"
   ]
  },
  {
   "cell_type": "code",
   "execution_count": 4,
   "metadata": {},
   "outputs": [
    {
     "name": "stdout",
     "output_type": "stream",
     "text": [
      "Testing modExp(23, 1002, 41) =  37\n",
      "Testing bezoutCoeffs(26, 7) =  (3, -11)\n",
      "Testing gcd(101, 4620) =  1\n",
      "Testing gcd(2349, 36) =  9\n"
     ]
    }
   ],
   "source": [
    "\"\"\" TESTER CELL \"\"\"\n",
    "print(\"Testing modExp(23, 1002, 41) = \", modExp(23, 1002, 41))\n",
    "print(\"Testing bezoutCoeffs(26, 7) = \", bezoutCoeffs(26, 7))\n",
    "print(\"Testing gcd(101, 4620) = \", gcd(101, 4620))\n",
    "print(\"Testing gcd(2349, 36) = \", gcd(2349, 36))"
   ]
  },
  {
   "cell_type": "code",
   "execution_count": null,
   "metadata": {},
   "outputs": [],
   "source": []
  }
 ],
 "metadata": {
  "kernelspec": {
   "display_name": "Python 3",
   "language": "python",
   "name": "python3"
  },
  "language_info": {
   "codemirror_mode": {
    "name": "ipython",
    "version": 3
   },
   "file_extension": ".py",
   "mimetype": "text/x-python",
   "name": "python",
   "nbconvert_exporter": "python",
   "pygments_lexer": "ipython3",
   "version": "3.7.4"
  }
 },
 "nbformat": 4,
 "nbformat_minor": 2
}
