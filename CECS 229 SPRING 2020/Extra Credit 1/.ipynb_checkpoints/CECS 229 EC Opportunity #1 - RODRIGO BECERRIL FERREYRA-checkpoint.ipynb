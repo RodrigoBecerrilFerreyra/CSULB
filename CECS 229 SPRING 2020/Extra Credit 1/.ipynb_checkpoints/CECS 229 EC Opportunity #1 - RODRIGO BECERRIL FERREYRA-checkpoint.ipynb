{
 "cells": [
  {
   "cell_type": "markdown",
   "metadata": {},
   "source": [
    "# CECS 229: EC Opportunity #1\n",
    "\n",
    "### Submission Instructions:\n",
    "\n",
    "Complete the task below. When you are finished, you must complete the following to receive a grade:\n",
    "\n",
    "1. Submit this notebook to the Dropbox by **Friday 4/3 @ 11:59 PM**.  Rename this file so that your actual name replaces \"YOUR NAME\". For example, I would submit to the dropbox a file called `CECS 229 EC Opportunity #1 - KATHERINE VARELA.ipynb`.\n",
    "\n",
    "2. Save your code ONLY to a .py file called `ec1.py`, and submit it on CodePost by the due date."
   ]
  },
  {
   "cell_type": "markdown",
   "metadata": {},
   "source": [
    "#### Problem 1:\n",
    "\n",
    "##### Background Information:\n",
    "\n",
    "A gray-scale image is defined by the intensities of its pixels, where the intensity values range from 0 (black) to 255 (white).  Suppose you have gray-scale image with ...\n",
    "* width $w$ (i.e. $w$ pixels across) \n",
    "* height $h$ (i.e. $h$ pixels high).  \n",
    "\n",
    "Then, the intensity of pixel $(i,j)$ is denoted as $I(i,j)$ so that $0 \\leq I(i,j) \\leq 255$ for any $ 0 \\leq i \\leq w-1$ and $0 \\leq j \\leq h-1$. \n",
    "\n",
    "Moreover, we define the pixel at $(0,0)$ to be the bottom-left pixel of any given image, while the pixel at $(w-1, h-1)$ is the top-right pixel.  Run the code below to see a diagram that exemplifies these definitions."
   ]
  },
  {
   "cell_type": "code",
   "execution_count": 3,
   "metadata": {},
   "outputs": [
    {
     "data": {
      "image/png": "[encoded data removed]",
      "text/plain": [
       "<Figure size 432x288 with 1 Axes>"
      ]
     },
     "metadata": {
      "needs_background": "light"
     },
     "output_type": "display_data"
    }
   ],
   "source": [
    "import numpy as np\n",
    "import matplotlib\n",
    "import matplotlib.pyplot as plt\n",
    "\n",
    "Y = [\"j = h-1\", \".\",\".\", \".\", \"j = y\",\n",
    "              \".\", \".\", \".\", \"j = 0\"]\n",
    "X = [\"i = 0\", \".\", \".\",\n",
    "           \".\", \"i = x\", \".\",\".\", \"i = w-1\"]\n",
    "\n",
    "pixels = np.array([[10, 20, 30, 40, 50, 60, 80, 100],\n",
    "                    [110, 120, 130, 140, 150, 160, 170, 180],\n",
    "                    [190, 200, 210, 220, 230, 240, 250, 255],\n",
    "                    [10, 20, 30, 40, 50, 60, 80, 100],\n",
    "                    [110, 120, 130, 140, 150, 160, 170, 180],\n",
    "                    [190, 200, 210, 220, 230, 240, 250, 255],\n",
    "                    [10, 20, 30, 40, 50, 60, 80, 100],\n",
    "                    [110, 120, 130, 140, 150, 160, 170, 180],\n",
    "                    [190, 200, 210, 220, 230, 240, 250, 255]])\n",
    "\n",
    "\n",
    "fig, ax = plt.subplots()\n",
    "im = ax.imshow(pixels,cmap = \"gray\")\n",
    "\n",
    "ax.set_xticks(np.arange(len(X)))\n",
    "ax.set_yticks(np.arange(len(Y)))\n",
    "ax.set_xticklabels(X)\n",
    "ax.set_yticklabels(Y)\n",
    "\n",
    "plt.setp(ax.get_xticklabels(), ha=\"center\", rotation_mode=\"anchor\")\n",
    "\n",
    "for i in range(len(Y)):\n",
    "    for j in range(len(X)):\n",
    "        ax.text(j, i, pixels[i, j], ha=\"center\", va=\"center\", color=\"black\")\n",
    "\n",
    "ax.set_title(\"Image Data\")\n",
    "fig.tight_layout()\n",
    "plt.show()"
   ]
  },
  {
   "cell_type": "markdown",
   "metadata": {},
   "source": [
    "In the diagram above $I(0,0) = 190$, $I(x, y) = 150$, and $I(w-1, h-1) = 100$, just to name a few sample intensities."
   ]
  },
  {
   "cell_type": "markdown",
   "metadata": {},
   "source": [
    "##### Your task:\n",
    "\n",
    "Complete the function `image2complex(img_name)` which returns a set of complex numbers \n",
    "$$S = \\{x+yi \\;|\\; I(x,y) < 120 \\}$$ \n",
    "\n",
    "given an image `img_name`.  That is, it returns the set of complex numbers $x+yi$ such that the intensity of each pixel $(x,y)$ in the set is less than 120.\n",
    "\n",
    "Test your function with the given image \"img01.png\".  Make sure that \"img01.png\", `image.py`, `plotting.py`, and `png.py` are in the same folder as this Jupyter notebook file.  You can compare your results with the expected outcome uploaded to BeachBoard."
   ]
  },
  {
   "cell_type": "code",
   "execution_count": 45,
   "metadata": {},
   "outputs": [],
   "source": [
    "def image2complex(img_name):\n",
    "    \"\"\"\n",
    "    IN: img_name - the name of the image to read\n",
    "    OUT: set of complex numbers x+yi where the intensity of pixel (x,y) is greater than 120\n",
    "    \"\"\"\n",
    "    import image\n",
    "    \n",
    "    # data is a list of lists such that the intensity of pixel (x,y) is given by data[h-1-y][x]\n",
    "    # where h = height of the image\n",
    "    T = []\n",
    "    data = image.color2gray(image.file2image(\"img01.png\"))\n",
    "    for y in range(0, -len(data), -1): #Had to do something weird here due to the -y in the formula\n",
    "        for x in range(len(data[0])):\n",
    "            if data[y][x] < 120: T.append(x-y*1j)\n",
    "    return set(T)"
   ]
  },
  {
   "cell_type": "code",
   "execution_count": 46,
   "metadata": {},
   "outputs": [],
   "source": [
    "from plotting import plot\n",
    "\n",
    "S = image2complex(\"img01.png\")\n",
    "plot(S, 200)"
   ]
  },
  {
   "cell_type": "markdown",
   "metadata": {},
   "source": [
    "#### Problem 2:\n",
    "\n",
    "Create a function `reflectV(S, h)` that reflects the points in the input set $S$ about the vertical line $x = h$:\n",
    "\n",
    "1. INPUT: \n",
    "    * `S` - set S\n",
    "    * `h` - float.\n",
    "2. OUT:\n",
    "    * set consisting of points in S reflected about the line $x = h$.\n",
    "    \n",
    "HINTS:\n",
    "\n",
    "* Use the `cmath` python library to separate the real and imaginary parts of a complex number.\n",
    "* See \"Fields & Vectors\" Relevant Exercise #9"
   ]
  },
  {
   "cell_type": "code",
   "execution_count": 39,
   "metadata": {},
   "outputs": [],
   "source": [
    "def reflectV(S, h):\n",
    "    \"\"\"\n",
    "    reflects the complex numbers of set S about the vertical line x = h.  \n",
    "    INPUT: \n",
    "        * S - set of complex numbers\n",
    "        * h - float\n",
    "    OUT:\n",
    "        * set consisting of points in S reflected about the line x = h.\n",
    "        \n",
    "    \"\"\"\n",
    "    T = []\n",
    "    for z in S:\n",
    "        T.append((2*h - z.real) + z.imag*1j)\n",
    "    return set(T)\n"
   ]
  },
  {
   "cell_type": "code",
   "execution_count": 42,
   "metadata": {},
   "outputs": [],
   "source": [
    "h = -20\n",
    "scale = 200\n",
    "\n",
    "R1 = reflectV(S, h) #points reflected about x = -20\n",
    "x_line = {h + y*1j for y in range(-scale, scale)}  #line of reflection\n",
    "\n",
    "all_pts = R1.union(S, x_line)\n",
    "plot(all_pts, 200) #second parameter affects window size\n"
   ]
  },
  {
   "cell_type": "markdown",
   "metadata": {},
   "source": [
    "#### Problem 3:\n",
    "\n",
    "Create a function `reflectH(S, k)` that reflects the points in the input set $S$ about the horizontal line $y = k$:\n",
    "\n",
    "1. INPUT: \n",
    "    * `S` - set S\n",
    "    * `k` - float.\n",
    "2. OUT:\n",
    "    * set consisting of points in S reflected about the line $y = k$."
   ]
  },
  {
   "cell_type": "code",
   "execution_count": 43,
   "metadata": {},
   "outputs": [],
   "source": [
    "def reflectH(S, k):\n",
    "    \"\"\"\n",
    "    reflects the complex numbers of set S about the horizontal line y = k.  \n",
    "    INPUT: \n",
    "        * S - set of complex numbers\n",
    "        * k - float\n",
    "    OUT:\n",
    "        * set consisting of points in S reflected about the line y = k.\n",
    "        \n",
    "    \"\"\"\n",
    "    T = []\n",
    "    for z in S:\n",
    "        T.append(z.real + (2*k - z.imag)*1j)\n",
    "    return set(T)"
   ]
  },
  {
   "cell_type": "code",
   "execution_count": 44,
   "metadata": {},
   "outputs": [],
   "source": [
    "k = -20\n",
    "scale = 200\n",
    "\n",
    "R2 = reflectH(S, k) #points reflected about x = -20\n",
    "y_line = {x + k*1j for x in range(-scale, scale)}  #line of reflection\n",
    "\n",
    "all_pts = R2.union(S, y_line)\n",
    "plot(all_pts, 200) #second parameter affects window size"
   ]
  },
  {
   "cell_type": "code",
   "execution_count": null,
   "metadata": {},
   "outputs": [],
   "source": []
  }
 ],
 "metadata": {
  "anaconda-cloud": {},
  "kernelspec": {
   "display_name": "Python 3",
   "language": "python",
   "name": "python3"
  },
  "language_info": {
   "codemirror_mode": {
    "name": "ipython",
    "version": 3
   },
   "file_extension": ".py",
   "mimetype": "text/x-python",
   "name": "python",
   "nbconvert_exporter": "python",
   "pygments_lexer": "ipython3",
   "version": "3.7.4"
  }
 },
 "nbformat": 4,
 "nbformat_minor": 1
}
