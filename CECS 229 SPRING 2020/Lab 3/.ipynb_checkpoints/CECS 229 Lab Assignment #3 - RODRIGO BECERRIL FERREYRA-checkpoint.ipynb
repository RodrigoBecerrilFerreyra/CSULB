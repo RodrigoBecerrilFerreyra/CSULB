{
 "cells": [
  {
   "cell_type": "markdown",
   "metadata": {},
   "source": [
    "# CECS 229 Lab Assignment #3\n",
    "\n",
    "### Submission Instructions:\n",
    "\n",
    "Complete the task below. When you are finished, you must complete the following to receive a grade:\n",
    "\n",
    "1. Submit this notebook to the Dropbox by **Thursday 2/4 @ 11:00 AM**.  Rename this file so that your actual name replaces \"YOUR NAME\". For example, I would submit to the dropbox a file called `CECS 229 Lab Assignment #3 - KATHERINE VARELA.ipynb`.\n",
    "\n",
    "2. Save your code ONLY to a .py file called `lab3.py`, and submit it on CodePost.\n"
   ]
  },
  {
   "cell_type": "markdown",
   "metadata": {},
   "source": [
    "#### Directions: Complete the function so that `binaryAdd(a, b)` returns the sum of two binary numbers `a` and `b`."
   ]
  },
  {
   "cell_type": "code",
   "execution_count": 11,
   "metadata": {},
   "outputs": [],
   "source": [
    "def binaryAdd(a, b):\n",
    "    \"\"\"returns the sum of two binary numbers a and b\n",
    "    INPUT: a,b - string representation of the binary numbers\n",
    "    OUPUT: string representation of their sum\n",
    "    \"\"\"\n",
    "    a = a.replace(\" \", \"\") #removing all whitespaces in string a\n",
    "    b = b.replace(\" \", \"\")\n",
    "    \n",
    "    len_a = len(a) #number of digits in string a\n",
    "    len_b = len(b) #number of digits in string b\n",
    "    \n",
    "    if len_a < len_b: #if string a is shorter than string b\n",
    "        num_missing_zeros = len_b - len_a\n",
    "        a = num_missing_zeros*\"0\" + a #appending 0's to the beginning of string a, to make it the same length as b\n",
    "    elif len_a > len_b:\n",
    "        num_missing_zeros = len_a - len_b\n",
    "        b = num_missing_zeros*\"0\" + b\n",
    "    \n",
    "    carry = 0\n",
    "    result = []\n",
    "    \n",
    "    for i in range(len(a)-1, -1, -1):\n",
    "        \n",
    "        temp_sum = int(a[i]) + int(b[i]) + carry #do calculation once\n",
    "        result.append(str(temp_sum % 2)) #a[i] +_2 b[i]\n",
    "        carry = temp_sum // 2 # // = div\n",
    "    else:\n",
    "        if carry == 1: result.append(\"1\")\n",
    "        \n",
    "    return \"\".join(result[::-1])\n",
    "        "
   ]
  },
  {
   "cell_type": "code",
   "execution_count": 10,
   "metadata": {},
   "outputs": [
    {
     "data": {
      "text/plain": [
       "'1000'"
      ]
     },
     "execution_count": 10,
     "metadata": {},
     "output_type": "execute_result"
    }
   ],
   "source": [
    "binaryAdd(\"111\", \"001\")"
   ]
  }
 ],
 "metadata": {
  "kernelspec": {
   "display_name": "Python 3",
   "language": "python",
   "name": "python3"
  },
  "language_info": {
   "codemirror_mode": {
    "name": "ipython",
    "version": 3
   },
   "file_extension": ".py",
   "mimetype": "text/x-python",
   "name": "python",
   "nbconvert_exporter": "python",
   "pygments_lexer": "ipython3",
   "version": "3.7.4"
  }
 },
 "nbformat": 4,
 "nbformat_minor": 2
}
