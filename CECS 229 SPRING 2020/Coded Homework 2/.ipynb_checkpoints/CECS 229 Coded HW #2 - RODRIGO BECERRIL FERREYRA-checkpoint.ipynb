{
 "cells": [
  {
   "cell_type": "markdown",
   "metadata": {},
   "source": [
    "# CECS 229 Coded HW #2\n",
    "\n",
    "#### Due Date: Thursday 3/12 @ 11:59 PM\n",
    "\n",
    "#### Submission Instructions:\n",
    "\n",
    "Attach your coded solution to the programming tasks below. When you are finished...\n",
    "\n",
    "1. Rename this file so that your actual name replaces \"YOUR NAME\" in the current notebook name, and submit it to the dropbox by **Thursday 3/12 @ 11:59 PM**. For example, I would submit to the dropbox a file called  `CECS 229 Coded HW#2 - KATHERINE VARELA.ipynb`\n",
    "2. Submit your code only to CodePost as `hw2.py` by **Thursday 3/12 @ 11:59 PM**\n",
    "\n",
    "### Programming Tasks\n",
    "\n"
   ]
  },
  {
   "cell_type": "markdown",
   "metadata": {},
   "source": [
    "#### Problem 1: \n",
    "Create a function `modinv(a,m)` that returns the inverse of `a` modulo `m`.  If the gcd of `a` and `m` is not 1, then you must `raise` a `ValueError` exception with message `\"The given values are not relatively prime\"`.  You can NOT use any built-in functions as part of your implementation, but you may import and use any functions you implemented for either Coded HW \\#1 or Lab Assignment \\#3."
   ]
  },
  {
   "cell_type": "code",
   "execution_count": 1,
   "metadata": {},
   "outputs": [],
   "source": [
    "def modinv(a,m,gcd = False):\n",
    "    \"\"\"returns the inverse of a modulo m\n",
    "    INPUT: a - integer\n",
    "           m - positive integer\n",
    "           gcd - if True then return the greatest common divisor of a and m instead\n",
    "    OUTPUT: a inverse as an integer\n",
    "    \"\"\"\n",
    "    r = [a, m]\n",
    "    s = [1, 0]\n",
    "    t = [0, 1]\n",
    "    \n",
    "    while r[1] != 0:\n",
    "        div = r[0] // r[1]\n",
    "        rs = r[0]; ss = s[0]; ts = t[0]\n",
    "        r[0] = r[1]; s[0] = s[1]; t[0] = t[1]\n",
    "        r[1] = rs - div*r[1]; s[1] = ss - div*s[1]; t[1] = ts - div*t[1]\n",
    "    \n",
    "    if not gcd:\n",
    "        if r[0] != 1: raise ValueError(\"The given values are not relatively prime\")\n",
    "        return s[0] if s[0] >= 0 else s[0] + m\n",
    "    else:\n",
    "        return r[0]"
   ]
  },
  {
   "cell_type": "markdown",
   "metadata": {},
   "source": [
    "#### Problem 2: \n",
    "Create a function `affineEncrypt(text, a,b)` that returns the cipher text encrypted using key  (`a`, `b`).  You must verify that the gcd(a, 26) = 1 before making the encryption.  If this is not the case, the function must throw an `raise` a `ValueError` exception with message `\"The given key is invalid. The gcd(a,26) must be 1.\"`.  You can NOT use any built-in functions as part of your implementation, but you may import and use any functions you implemented for either Coded HW \\#1 or Lab Assignment \\#3.  You may also use the utility functions at the end of this notebook."
   ]
  },
  {
   "cell_type": "code",
   "execution_count": 13,
   "metadata": {},
   "outputs": [],
   "source": [
    "def affineEncrypt(text, a, b):\n",
    "    \"\"\"encrypts the plaintext 'text', using an affine transformation key (a, b)\n",
    "    INPUT:  text - plaintext as a string of letters\n",
    "            a - integer satisfying gcd(a, 26) = 1.  Raises error if such is not the case\n",
    "            b - integer \n",
    "            \n",
    "    OUTPUT: The encrypted message as a string of characters\n",
    "    \"\"\"\n",
    "    if modinv(a, 26, True) != 1: raise ValueError(\"The given key is invalid. The gcd(a,26) must be 1.\")\n",
    "\n",
    "    # Turn letters to numbers\n",
    "    as_numbers = [int(letters2digits(i)) for i in text.replace(\" \", \"\")]\n",
    "\n",
    "    # Encryption formula\n",
    "    encrypted = [(a * x + b) % 26 for x in as_numbers]\n",
    "\n",
    "    # Join list and return\n",
    "    encrypted_letters = []\n",
    "    for i in encrypted:\n",
    "        encrypted_letters.append(\n",
    "            digits2letters(\n",
    "                str(i) if i >= 10 else \"0\" + str(i)\n",
    "                )\n",
    "            ) #[digits2letters(str(i).zfill(2)) for i in encrypted]\n",
    "            # Not sure if I'm allowed to use zfill so I'll play it safe.\n",
    "    return \"\".join(encrypted_letters)"
   ]
  },
  {
   "cell_type": "markdown",
   "metadata": {},
   "source": [
    "#### Problem 3: \n",
    "Create a function `affineDecrypt(ciphertext, a,b)` that returns the cipher text encrypted using key  (`a`, `b`). You must verify that the gcd(a, 26) = 1.  If this is not the case, the function must `raise` a `ValueError` exception with message `\"The given key is invalid. The gcd(a,26) must be 1.\"`.  You can NOT use any built-in functions as part of your implementation, but you may import and use any functions you implemented for either Coded HW \\#1 or Lab Assignment \\#3.  You may also use the utility functions at the end of this notebook. "
   ]
  },
  {
   "cell_type": "code",
   "execution_count": 14,
   "metadata": {},
   "outputs": [],
   "source": [
    "def affineDecrypt(ciphertext, a, b):\n",
    "    \"\"\"decrypts the string 'ciphertext', which was encrypted using an affine transformation key (a, b)\n",
    "    INPUT:  ciphertext - a string of encrypted letters\n",
    "            a - integer satisfying gcd(a, 26) = 1.  \n",
    "            b - integer \n",
    "            \n",
    "    OUTPUT: The decrypted message as a string of characters\n",
    "    \"\"\"\n",
    "    if modinv(a, 26, True) != 1: raise ValueError(\"The given key is invalid. The gcd(a,26) must be 1.\")\n",
    "\n",
    "    a_bar = modinv(a, 26)\n",
    "\n",
    "    # Turn letters to numbers\n",
    "    as_numbers = [int(letters2digits(i)) for i in ciphertext.replace(\" \", \"\")]\n",
    "\n",
    "    # Decryption formula\n",
    "    decrypted = [a_bar * (x - b) % 26 for x in as_numbers]\n",
    "\n",
    "    # Join list and return\n",
    "    decrypted_letters = []\n",
    "    for i in decrypted:\n",
    "        decrypted_letters.append(\n",
    "            digits2letters(\n",
    "                str(i) if i >= 10 else \"0\" + str(i)\n",
    "            )\n",
    "        ) #[digits2letters(str(i).zfill(2)) for i in decrypted]\n",
    "        # Not sure if I'm allowed to use zfill so I'll play it safe.\n",
    "    return \"\".join(decrypted_letters)"
   ]
  },
  {
   "cell_type": "markdown",
   "metadata": {},
   "source": [
    "#### Problem 4:\n",
    "\n",
    "Implement the function `encryptRSA(m, p, q, e)` which encrypts a string `m` using RSA key `(n = p * q, e)`.  You can NOT use any built-in functions as part of your implementation, but you may import and use any functions you implemented for either Coded HW \\#1 or Lab Assignment \\#3.  You may also use the utility functions at the end of this notebook to aid you in your implementation. "
   ]
  },
  {
   "cell_type": "code",
   "execution_count": 28,
   "metadata": {},
   "outputs": [],
   "source": [
    "def encryptRSA(m, p, q, e):\n",
    "    \"\"\"encrypts the plaintext m, using RSA and the key (p * q, e)\n",
    "    INPUT:  m - plaintext as a string of letters\n",
    "            p, q - prime numbers used as part of the key n = p * q to encrypt the ciphertext\n",
    "            e - integer satisfying gcd((p-1)*(q-1), e) = 1\n",
    "            \n",
    "    OUTPUT: The encrypted message as a string of digits\n",
    "    \"\"\"\n",
    "    \n",
    "    # Initialization of variables\n",
    "    n = p * q\n",
    "    size = blocksize(n)\n",
    "    m = m.replace(\" \", \"\")\n",
    "\n",
    "    # Letters to numbers\n",
    "    numbers = \"\".join([letters2digits(char) for char in m])\n",
    "\n",
    "    # Separating into blocks of size size\n",
    "    separated = []\n",
    "    for i in range(1, len(numbers) + 1):\n",
    "        if i % size == 0: separated.append(numbers[i - size : i])\n",
    "        elif i == len(numbers): separated.append(numbers[i - i%size:])\n",
    "    \n",
    "    # Padding for last block\n",
    "    while len(separated[-1]) != size:\n",
    "        separated[-1] += \"23\"\n",
    "\n",
    "    # Encryption algorithm\n",
    "    encrypted = [str((int(m) ** e) % n) for m in separated]\n",
    "\n",
    "    # Left zero padding for all blocks\n",
    "    for i in range(len(encrypted)):\n",
    "        while len(encrypted[i]) != size:\n",
    "            encrypted[i] = \"0\" + encrypted[i]\n",
    "\n",
    "    return \" \".join(encrypted)"
   ]
  },
  {
   "cell_type": "code",
   "execution_count": 29,
   "metadata": {},
   "outputs": [
    {
     "name": "stdout",
     "output_type": "stream",
     "text": [
      "Encrypted Message: 2081 2182\n",
      "Expected: 2081 2182\n",
      "Encrypted Message: 0981 0461\n",
      "Expected: 0981 0461\n",
      "Encrypted Message: 2081 2182 1346\n",
      "Expected: 2081 2182 1346\n",
      "Encrypted Message: 2545 2757 1211\n",
      "Expected: 2545 2757 1211\n"
     ]
    }
   ],
   "source": [
    "\"\"\"--------------------- ENCRYPTION TESTER CELL ---------------------------\"\"\"\n",
    "encrypted1 = encryptRSA(\"STOP\", 43, 59, 13)\n",
    "encrypted2 = encryptRSA(\"HELP\", 43, 59, 13)\n",
    "encrypted3 = encryptRSA(\"STOPS\", 43, 59, 13)\n",
    "print(\"Encrypted Message:\", encrypted1)\n",
    "print(\"Expected: 2081 2182\")\n",
    "print(\"Encrypted Message:\", encrypted2)\n",
    "print(\"Expected: 0981 0461\")\n",
    "print(\"Encrypted Message:\", encrypted3)\n",
    "print(\"Expected: 2081 2182 1346\")\n",
    "\n",
    "\n",
    "\"\"\"--------------------- TEST 2 ---------------------------\"\"\"\n",
    "encrypted = encryptRSA(\"UPLOAD\", 53, 61, 17)\n",
    "print(\"Encrypted Message:\", encrypted)\n",
    "print(\"Expected: 2545 2757 1211\")"
   ]
  },
  {
   "cell_type": "markdown",
   "metadata": {},
   "source": [
    "#### Problem 5:\n",
    "\n",
    "Complete the implementation of the function `decryptRSA(c, p, q, m)` which depends on `modinv(a,m)` and the given functions `RSAdigits2letters(d)` and `blockSize(n)`.  When you are done, you can test your function against the given samples."
   ]
  },
  {
   "cell_type": "code",
   "execution_count": 2,
   "metadata": {},
   "outputs": [],
   "source": [
    "def decryptRSA(c, p, q, e):\n",
    "    \"\"\"decrypts the cipher c, which was encrypted using the key (p * q, e)\n",
    "    INPUT:  c - ciphertext as a string of digits\n",
    "            p, q - prime numbers used as part of the key n = p * q to encrypt the ciphertext\n",
    "            e - integer satisfying gcd((p-1)*(q-1), e) = 1\n",
    "            \n",
    "    OUTPUT: The decrypted message as a string of letters\n",
    "    \"\"\"\n",
    "    # Initialization of variables\n",
    "    n = p * q\n",
    "    e_bar = modinv(e, (p - 1) * (q - 1))\n",
    "    separated = c.split(\" \")\n",
    "    size = blocksize(n)\n",
    "\n",
    "    # Decryption function\n",
    "    decrypted = [str((int(ci) ** e_bar) % n) for ci in separated]\n",
    "    # Left padding with 0\n",
    "    for i in range(len(decrypted)):\n",
    "        while len(decrypted[i]) != size:\n",
    "            decrypted[i] = \"0\" + decrypted[i]\n",
    "    decrypted_str = \"\".join(decrypted)\n",
    "    \n",
    "    # Join string and return\n",
    "    decrypted_letters = [digits2letters(decrypted_str[i:i + 2]) for i in range(0, len(decrypted_str) + 1, 2)]\n",
    "    return \"\".join(decrypted_letters)"
   ]
  },
  {
   "cell_type": "code",
   "execution_count": 32,
   "metadata": {},
   "outputs": [
    {
     "name": "stdout",
     "output_type": "stream",
     "text": [
      "Decrypted Message: STOP\n",
      "Expected: STOP\n",
      "Decrypted Message: HELP\n",
      "Expected: HELP\n",
      "Decrypted Message: STOPSX\n",
      "Expected: STOPSX\n",
      "Decrypted Message: SILVER\n",
      "Expected: SILVER\n"
     ]
    }
   ],
   "source": [
    "\"\"\"--------------------- TESTER CELL ---------------------------\"\"\"\n",
    "decrypted1 = decryptRSA(\"2081 2182\", 43, 59, 13)\n",
    "decrypted2 = decryptRSA(\"0981 0461\", 43, 59, 13)\n",
    "decrypted3 = decryptRSA(\"2081 2182 1346\", 43, 59, 13)\n",
    "print(\"Decrypted Message:\", decrypted1)\n",
    "print(\"Expected: STOP\")\n",
    "print(\"Decrypted Message:\", decrypted2)\n",
    "print(\"Expected: HELP\")\n",
    "print(\"Decrypted Message:\", decrypted3)\n",
    "print(\"Expected: STOPSX\")\n",
    "\n",
    "\"\"\"--------------------- TEST 2---------------------------\"\"\"\n",
    "decrypted = decryptRSA(\"0667 1947 0671\", 43, 59, 13)\n",
    "print(\"Decrypted Message:\", decrypted)\n",
    "print(\"Expected: SILVER\")"
   ]
  },
  {
   "cell_type": "markdown",
   "metadata": {},
   "source": [
    "##### Utility functions (NO EDITS NECESSARY)"
   ]
  },
  {
   "cell_type": "code",
   "execution_count": 20,
   "metadata": {},
   "outputs": [],
   "source": [
    "def digits2letters(digits):\n",
    "    \"\"\"converts a string of double digits without spaces in the range 00-25 to a string of letters A-Z\"\"\"\n",
    "    letter2digit = {\"A\" : \"00\", \"B\" : \"01\", \"C\" : \"02\", \"D\" : \"03\", \"E\" : \"04\", \n",
    "                  \"F\" : \"05\", \"G\" : \"06\", \"H\" : \"07\", \"I\" : \"08\", \"J\" : \"09\",\n",
    "                  \"K\" : \"10\", \"L\" : \"11\", \"M\" : \"12\", \"N\" : \"13\", \"O\" : \"14\",  \n",
    "                  \"P\" : \"15\", \"Q\" : \"16\", \"R\" : \"17\", \"S\" : \"18\", \"T\" : \"19\",\n",
    "                  \"U\" : \"20\", \"V\" : \"21\", \"W\" : \"22\", \"X\" : \"23\", \"Y\" : \"24\", \n",
    "                  \"Z\" : \"25\"}\n",
    "        \n",
    "    digit2letter = dict((v,k) for k,v in letter2digit.items())  #creating a dictionary with keys and values exchanged\n",
    "        \n",
    "    letters = \"\"\n",
    "    start = 0  #initializing starting index of first digit\n",
    "    for i in range(0, len(digits), 2):\n",
    "        digit = digits[start : start + 2]  # accessing the double digit\n",
    "        letters += digit2letter[digit]     # concatenating to the string of letters\n",
    "        start += 2                         # updating the starting index for next digit\n",
    "    \n",
    "    return letters"
   ]
  },
  {
   "cell_type": "code",
   "execution_count": 21,
   "metadata": {},
   "outputs": [],
   "source": [
    "def letters2digits(letters):\n",
    "    \"\"\"converts a string of letters A-Z to a string of double digits without spaces in the range 00-25\"\"\"\n",
    "    letter2digit = {\"A\" : \"00\", \"B\" : \"01\", \"C\" : \"02\", \"D\" : \"03\", \"E\" : \"04\", \n",
    "                  \"F\" : \"05\", \"G\" : \"06\", \"H\" : \"07\", \"I\" : \"08\", \"J\" : \"09\",\n",
    "                  \"K\" : \"10\", \"L\" : \"11\", \"M\" : \"12\", \"N\" : \"13\", \"O\" : \"14\",  \n",
    "                  \"P\" : \"15\", \"Q\" : \"16\", \"R\" : \"17\", \"S\" : \"18\", \"T\" : \"19\",\n",
    "                  \"U\" : \"20\", \"V\" : \"21\", \"W\" : \"22\", \"X\" : \"23\", \"Y\" : \"24\", \n",
    "                  \"Z\" : \"25\"}\n",
    "        \n",
    "    digits = \"\"  #initializing digits string\n",
    "    letters = \"\".join(letters.split()) #removing whitespaces in the text\n",
    "\n",
    "    \n",
    "    for i in range(0, len(letters)):\n",
    "        if(letters[i].isalpha()):\n",
    "            letter = letters[i].upper()  #converting to uppercase\n",
    "            digit = letter2digit[letter]\n",
    "            digits += digit     # concatenating to the string of digits\n",
    "    \n",
    "    return digits"
   ]
  },
  {
   "cell_type": "code",
   "execution_count": 22,
   "metadata": {},
   "outputs": [],
   "source": [
    "def blocksize(n):\n",
    "    \"\"\"returns the size of a block in an RSA encrypted string\"\"\"\n",
    "    twofive = \"25\"\n",
    "    while int(twofive) < n:\n",
    "        twofive += \"25\"\n",
    "    return len(twofive) - 2"
   ]
  },
  {
   "cell_type": "code",
   "execution_count": null,
   "metadata": {},
   "outputs": [],
   "source": []
  }
 ],
 "metadata": {
  "kernelspec": {
   "display_name": "Python 3",
   "language": "python",
   "name": "python3"
  },
  "language_info": {
   "codemirror_mode": {
    "name": "ipython",
    "version": 3
   },
   "file_extension": ".py",
   "mimetype": "text/x-python",
   "name": "python",
   "nbconvert_exporter": "python",
   "pygments_lexer": "ipython3",
   "version": "3.7.4"
  }
 },
 "nbformat": 4,
 "nbformat_minor": 2
}
