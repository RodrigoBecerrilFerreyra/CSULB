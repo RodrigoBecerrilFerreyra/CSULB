{
  "nbformat": 4,
  "nbformat_minor": 0,
  "metadata": {
    "colab": {
      "name": "data_preprocessing_empty_CECS456.ipynb",
      "provenance": [],
      "collapsed_sections": []
    },
    "kernelspec": {
      "name": "python3",
      "display_name": "Python 3"
    }
  },
  "cells": [
    {
      "cell_type": "markdown",
      "metadata": {
        "id": "JD-ZWwZZ5Y8y"
      },
      "source": [
        "##CECS 456-Dr. Wenlu Zhang"
      ]
    },
    {
      "cell_type": "markdown",
      "metadata": {
        "id": "37puETfgRzzg"
      },
      "source": [
        "# Data Preprocessing Tools\n",
        "\n",
        "\n",
        "1.   In this lecture, it contains all the different tools of data preprocessing that you might have to use on your data sets in order to pre-process them the right way for your machine learning model.\n",
        "2.   data preprocessing: the first very important step of ML. Any time you build a ML model, you always have a data preprocessing phase to work on.\n",
        "\n"
      ]
    },
    {
      "cell_type": "markdown",
      "metadata": {
        "id": "EoRP98MpR-qj"
      },
      "source": [
        "## Importing the libraries"
      ]
    },
    {
      "cell_type": "markdown",
      "metadata": {
        "id": "RopL7tUZSQkT"
      },
      "source": [
        "## Importing the dataset"
      ]
    },
    {
      "cell_type": "markdown",
      "metadata": {
        "id": "nhfKXNxlSabC"
      },
      "source": [
        "## Taking care of missing data"
      ]
    },
    {
      "cell_type": "markdown",
      "metadata": {
        "id": "CriG6VzVSjcK"
      },
      "source": [
        "## Encoding categorical data"
      ]
    },
    {
      "cell_type": "markdown",
      "metadata": {
        "id": "AhSpdQWeSsFh"
      },
      "source": [
        "### Encoding the Independent Variable"
      ]
    },
    {
      "cell_type": "markdown",
      "metadata": {
        "id": "DXh8oVSITIc6"
      },
      "source": [
        "### Encoding the Dependent Variable"
      ]
    },
    {
      "cell_type": "markdown",
      "metadata": {
        "id": "qb_vcgm3qZKW"
      },
      "source": [
        "## Splitting the dataset into the Training set and Test set"
      ]
    },
    {
      "cell_type": "markdown",
      "metadata": {
        "id": "5aNfI2Giikyt"
      },
      "source": [
        "Note: I will talk about applying k-Fold Cross Validation in the later class.\n"
      ]
    },
    {
      "cell_type": "markdown",
      "metadata": {
        "id": "Nub18JX0fH6y"
      },
      "source": [
        "***most frequently asked quesions:***\n",
        "\n",
        "do we have to apply feature scaling before splitting the data into training set and teting set or after it?\n",
        "\n"
      ]
    },
    {
      "cell_type": "markdown",
      "metadata": {
        "id": "TpGqbS4TqkIR"
      },
      "source": [
        "## Feature Scaling"
      ]
    },
    {
      "cell_type": "markdown",
      "metadata": {
        "id": "_ArApiCY3gJn"
      },
      "source": [
        "you won't have to use feature scaling all the time, we will see, in each of the machine learning model implementation whether we have apply feature scaling or not."
      ]
    },
    {
      "cell_type": "markdown",
      "metadata": {
        "id": "rV2U_NWAxd0X"
      },
      "source": [
        "**One of the most frequently asked questions in the data science community**\n",
        "\n",
        "\n",
        "> Do we have to apply feature scaling (standardization) to the dummy variables in the matrix of features?\n",
        "\n",
        "\n",
        "\n",
        "\n",
        "\n"
      ]
    }
  ]
}